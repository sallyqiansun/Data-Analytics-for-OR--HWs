{
 "cells": [
  {
   "cell_type": "markdown",
   "metadata": {},
   "source": [
    "<h1>Scraping fidelity.com</h1>\n",
    "In this assignment, you will scrape data from fidelity.com. The goal of the exercise is to get the latest sector performance data from the US markets, and to get the total market capitalization for each sector. \n",
    "\n",
    "The end result is to write a function: <i>get_us_sector_performance()</i> that will return a list of tuples. Each tuple should correspond to a sector and should contain the following data:\n",
    "<li>the sector name\n",
    "<li>the amount the sector has moved\n",
    "<li>the market capitalization of the sector\n",
    "<li>the market weight of the sector\n",
    "<li>a link to the fidelity page for that sector\n",
    "\n",
    "<p>\n",
    "The data should be sorted by decreasing order of market weight. I.e., the sector with the highest weight should be in the first tuple, etc."
   ]
  },
  {
   "cell_type": "code",
   "execution_count": 2,
   "metadata": {},
   "outputs": [
    {
     "name": "stdout",
     "output_type": "stream",
     "text": [
      "10\n",
      "11\n"
     ]
    }
   ],
   "source": [
    "def f(x):\n",
    "      yield x+1\n",
    "      yield x+2\n",
    "g=f(9)\n",
    "\n",
    "for v in g:\n",
    "\n",
    "     print(v)"
   ]
  },
  {
   "cell_type": "markdown",
   "metadata": {},
   "source": [
    "<h3>Process</h3>\n",
    "<li>Get a list of sectors and the links to the sector detail pages from the url (see function)\n",
    "<li>Loop through the list and call the function <i>get_sector_change_and_market_cap(sector_page_link)</i> for each sector\n",
    "<li>Accumulate the name, the change, the capitalization, the weight and the link for each sector in output_list (see function)\n",
    "<li>Sort the list by market weight"
   ]
  },
  {
   "cell_type": "markdown",
   "metadata": {},
   "source": [
    "<b>Notes:</b>\n",
    "<li>Note that the market weight is a string with a % sign at the back. You will need to get rid of the % and convert the string into a float before you can sort it\n",
    "<li>Your starting data is the url listed below. You need to extract all data, including links to the sector pages, from the page at this url\n",
    "<li>To sort a list of tuples by an arbitrary element, use the example at the bottom of this notebook"
   ]
  },
  {
   "cell_type": "code",
   "execution_count": 146,
   "metadata": {},
   "outputs": [],
   "source": [
    "def get_sector_change_and_market_cap(sector_page_link):    \n",
    "    import requests\n",
    "    from bs4 import BeautifulSoup\n",
    "    response=requests.get(sector_page_link)\n",
    "    if not response.status_code == 200:\n",
    "        return 0\n",
    "    results_page=BeautifulSoup(response.content,'lxml')\n",
    "    spans=results_page.find_all('span')\n",
    "    try:\n",
    "        sector_change=float(spans[45].get_text().strip('%'))\n",
    "        sector_market_cap=spans[47].get_text()\n",
    "        sector_market_weight=float(spans[49].get_text().strip('%'))\n",
    "        return sector_change,sector_market_cap,sector_market_weight\n",
    "    except:\n",
    "        return 0\n",
    "    \n",
    "    \n",
    "def get_us_sector_performance():\n",
    "    import requests\n",
    "    from bs4 import BeautifulSoup\n",
    "    output_list = list()\n",
    "    url = \"https://eresearch.fidelity.com/eresearch/goto/markets_sectors/landing.jhtml\"\n",
    "    response=requests.get(url)\n",
    "    if not response.status_code == 200:\n",
    "        return output_list\n",
    "    try:\n",
    "        results_page=BeautifulSoup(response.content,'lxml')\n",
    "        sectors=results_page.find('table',{'class':'sector-list'}).find_all('div',{'class':'heading'})\n",
    "        for sector in sectors:\n",
    "            sector_name=sector.find('a').get_text()\n",
    "            sector_link=\"https://eresearch.fidelity.com\"+sector.find('a').get('href')\n",
    "            output_list.append((sector_name,get_sector_change_and_market_cap(sector_link)[0],get_sector_change_and_market_cap(sector_link)[1],get_sector_change_and_market_cap(sector_link)[2],sector_link))\n",
    "            output_list.sort(key=itemgetter(3)) \n",
    "        return output_list\n",
    "    except:\n",
    "        return output_list\n",
    "    \n",
    "\n",
    "    "
   ]
  },
  {
   "cell_type": "code",
   "execution_count": 147,
   "metadata": {},
   "outputs": [
    {
     "data": {
      "text/plain": [
       "[('Materials',\n",
       "  0.65,\n",
       "  '$1.82T',\n",
       "  2.72,\n",
       "  'https://eresearch.fidelity.com/eresearch/markets_sectors/sectors/sectors_in_market.jhtml?tab=learn&sector=15'),\n",
       " ('Real Estate',\n",
       "  0.48,\n",
       "  '$1.39T',\n",
       "  3.23,\n",
       "  'https://eresearch.fidelity.com/eresearch/markets_sectors/sectors/sectors_in_market.jhtml?tab=learn&sector=60'),\n",
       " ('Utilities',\n",
       "  0.15,\n",
       "  '$1.49T',\n",
       "  3.61,\n",
       "  'https://eresearch.fidelity.com/eresearch/markets_sectors/sectors/sectors_in_market.jhtml?tab=learn&sector=55'),\n",
       " ('Energy',\n",
       "  -0.47,\n",
       "  '$3.10T',\n",
       "  4.57,\n",
       "  'https://eresearch.fidelity.com/eresearch/markets_sectors/sectors/sectors_in_market.jhtml?tab=learn&sector=10'),\n",
       " ('Consumer Staples',\n",
       "  0.68,\n",
       "  '$3.92T',\n",
       "  7.6,\n",
       "  'https://eresearch.fidelity.com/eresearch/markets_sectors/sectors/sectors_in_market.jhtml?tab=learn&sector=30'),\n",
       " ('Industrials',\n",
       "  0.34,\n",
       "  '$4.12T',\n",
       "  9.37,\n",
       "  'https://eresearch.fidelity.com/eresearch/markets_sectors/sectors/sectors_in_market.jhtml?tab=learn&sector=20'),\n",
       " ('Consumer Discretionary',\n",
       "  0.81,\n",
       "  '$5.23T',\n",
       "  10.08,\n",
       "  'https://eresearch.fidelity.com/eresearch/markets_sectors/sectors/sectors_in_market.jhtml?tab=learn&sector=25'),\n",
       " ('Communication Services',\n",
       "  0.46,\n",
       "  '$4.54T',\n",
       "  10.38,\n",
       "  'https://eresearch.fidelity.com/eresearch/markets_sectors/sectors/sectors_in_market.jhtml?tab=learn&sector=50'),\n",
       " ('Financials',\n",
       "  0.15,\n",
       "  '$7.19T',\n",
       "  13.02,\n",
       "  'https://eresearch.fidelity.com/eresearch/markets_sectors/sectors/sectors_in_market.jhtml?tab=learn&sector=40'),\n",
       " ('Health Care',\n",
       "  1.29,\n",
       "  '$5.39T',\n",
       "  13.6,\n",
       "  'https://eresearch.fidelity.com/eresearch/markets_sectors/sectors/sectors_in_market.jhtml?tab=learn&sector=35'),\n",
       " ('Information Technology',\n",
       "  1.23,\n",
       "  '$7.90T',\n",
       "  21.82,\n",
       "  'https://eresearch.fidelity.com/eresearch/markets_sectors/sectors/sectors_in_market.jhtml?tab=learn&sector=45')]"
      ]
     },
     "execution_count": 147,
     "metadata": {},
     "output_type": "execute_result"
    }
   ],
   "source": [
    "get_us_sector_performance()"
   ]
  }
 ],
 "metadata": {
  "kernelspec": {
   "display_name": "Python 3",
   "language": "python",
   "name": "python3"
  },
  "language_info": {
   "codemirror_mode": {
    "name": "ipython",
    "version": 3
   },
   "file_extension": ".py",
   "mimetype": "text/x-python",
   "name": "python",
   "nbconvert_exporter": "python",
   "pygments_lexer": "ipython3",
   "version": "3.7.3"
  }
 },
 "nbformat": 4,
 "nbformat_minor": 2
}
