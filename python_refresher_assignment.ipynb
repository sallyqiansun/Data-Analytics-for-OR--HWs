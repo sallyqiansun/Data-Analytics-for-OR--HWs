{
 "cells": [
  {
   "cell_type": "markdown",
   "metadata": {},
   "source": [
    "<h2>Problem 1: Simple string manipulation</h2>"
   ]
  },
  {
   "cell_type": "markdown",
   "metadata": {},
   "source": [
    "Equity data providers often add exchange information to a ticker symbol when reporting pricing or other data (primarily to resolve cross-exchange ambiguities). Reuters uses a coding scheme known as Reuters Instrument Code (RIC) where exchange information is added to the ticker following a dot at the end of the ticker symbol.\n",
    "\n",
    "For example, the RIC IBM.N indicates that a data item corresponds to IBM on the NYSE, IBM.L indicates that a data item corresponds to IBM on the London Stock Exchange, VOD.OQ for Vodafone on the NASDAQ stock exchange, etc.\n",
    "\n",
    "Write a program that takes as input a Reuters RIC and separates out the ticker and the exchange. You may assume:\n",
    "\n",
    "1. that the only \"non-letter\" character in the ticker is the dot and there will be only one dot\n",
    "\n",
    "2. that every ticker has an exchange symbol (i.e., IBM.N and not IBM)\n",
    "\n",
    "3. that the tickers and exchanges are valid (you don't need to check if the exchange identifer is valid)\n",
    "\n"
   ]
  },
  {
   "cell_type": "markdown",
   "metadata": {},
   "source": [
    "<h3>Test your code with the following test examples</h3>\n",
    "\n",
    "<h4>Example 1</h4>\n",
    "Please enter a Reuters RIC symbol: VOD.OQ\n",
    "<br>\n",
    "The traded exchange for VOD is OQ\n",
    "<p>\n",
    "<h4>Example 2</h4>\n",
    "Please enter a Reuters RIC symbol: IBM.L\n",
    "<br>\n",
    "The traded exchange for IBM is L\n",
    "<h4>Example 3</h4>\n",
    "Please enter a Reuters RIC symbol: GOOG.OQ\n",
    "<br>\n",
    "The traded exchange for GOOG is OQ"
   ]
  },
  {
   "cell_type": "code",
   "execution_count": 1,
   "metadata": {},
   "outputs": [
    {
     "name": "stdout",
     "output_type": "stream",
     "text": [
      "Please enter a Reuters RIC symbol: VOD.OQ\n",
      "The traded exchange for VOD is OQ\n"
     ]
    }
   ],
   "source": [
    "#PROBLEM 1 SOLUTION\n",
    "x=input(\"Please enter a Reuters RIC symbol: \")\n",
    "y=x[:x.find('.')]\n",
    "z=x[x.find('.')+1:]\n",
    "print(\"The traded exchange for \"+y+\" is \"+z)"
   ]
  },
  {
   "cell_type": "markdown",
   "metadata": {},
   "source": [
    "<h2>Problem 2: Simple Arithmetic and string formatting</h2>\n",
    "Write a program that converts an amount given in a foreign currency into USD. Your program should input the foreign currency symbol, the amount in foreign currency being converted, and the exchange rate to USD. Your program should print out the equivalent amount in USD (including the $ symbol). \n",
    "\n",
    "<b>You will need to research string formatting on your own!</b>\n",
    "\n",
    "Example:\n",
    "\n",
    "Please enter the foreign currency symbol: EUR<br>\n",
    "Please enter the amount in EUR: 1.11<br>\n",
    "Please enter the exchange rate (1 EUR to USD): 100.00<br>\n",
    "The equivalent USD amount is: $111.00 <br>\n",
    "\n",
    "Notes:\n",
    "\n",
    "1. Your output should be formatted correctly with a dollar sign and with cents rounded up to two decimal places \n",
    "\n",
    "2. Assume that the input is in the right format. I.e., when a number is requested, the user will enter a number (in other words, no error checking is necessary)"
   ]
  },
  {
   "cell_type": "code",
   "execution_count": 24,
   "metadata": {
    "scrolled": true
   },
   "outputs": [
    {
     "name": "stdout",
     "output_type": "stream",
     "text": [
      "Please enter the foreign currency symbol: EUR\n",
      "Please enter the amount in EUR: 1.11\n",
      "Please enter the exchange rate (1 EUR to USD): 100.00\n",
      "The equivalent USD amount is: $ 111.00\n"
     ]
    }
   ],
   "source": [
    "#PROBLEM 2 SOLUTION\n",
    "import decimal\n",
    "x=input(\"Please enter the foreign currency symbol: \")\n",
    "y=float(input(\"Please enter the amount in %s: \" %x))\n",
    "z=float(input(\"Please enter the exchange rate (1 %s to USD): \" %x))\n",
    "print(\"The equivalent USD amount is: $ %.2f\" % (y*z))"
   ]
  },
  {
   "cell_type": "markdown",
   "metadata": {},
   "source": [
    "<h1>Problem 3:</h1>\n",
    "Often, when dealing with data, continuous features are converted into categorical ones. Write a function <i><span style=\"color:red\">encode_array</style></i> that converts continuous data into categorical data using a conversion scheme. \n",
    "\n",
    "For example:\n",
    "if:<br>\n",
    "input_array = (17,5,36,22,54,34,19,65,102)\n",
    "\n",
    "and tha categorical scheme is:<br>\n",
    "category_limits = (10,20,30,40,50,60,70,80)<br>\n",
    "\n",
    "* values less than 10 are in category 0, values between 10 (inclusive) and less than 20 are in category 1, etc. Values greater than or equal to 80 are in category 8.\n",
    "\n",
    "and your function call is:<br>\n",
    "encode_array(input_array,category_limits)\n",
    "\n",
    "the output should be:<br>\n",
    "[1, 0, 3, 2, 5, 3, 1, 6, 8]\n",
    "\n",
    "Notes:\n",
    "\n",
    "1. Assume that the category limits are in the form of a list as in the example above\n",
    "\n",
    "2. There are many ways to write this function but you must encapsulate the encode function inside the encode_array function. Use the template below as a guideline\n",
    "\n",
    "3. If category_limits is an empty list (or tuple), your function should return a list of all zeros \n",
    "\n",
    "4. If input_array is an empty list (or tuple), your function should return an empty list\n",
    "\n",
    "5. You might find the <a href=\"http://book.pythontips.com/en/latest/for_-_else.html\">for ... else ...</a> structure useful for this problem "
   ]
  },
  {
   "cell_type": "code",
   "execution_count": 2,
   "metadata": {},
   "outputs": [],
   "source": [
    "#PROBLEM 3 SOLUTION\n",
    "def encode_array(input_array,category_limits):\n",
    "    def encode(input_value,category_limits):      \n",
    "        for i in range (len(category_limits)):\n",
    "            if input_value <= category_limits[i]:\n",
    "                return i\n",
    "                break\n",
    "        else:\n",
    "            return len(category_limits)\n",
    "    new=[]\n",
    "    for i in range (len(input_array)):\n",
    "        new.append(encode(input_array[i],category_limits))\n",
    "    return new        "
   ]
  },
  {
   "cell_type": "code",
   "execution_count": 13,
   "metadata": {},
   "outputs": [
    {
     "data": {
      "text/plain": [
       "[1, 0, 3, 2, 5, 3, 1, 6, 8]"
      ]
     },
     "execution_count": 13,
     "metadata": {},
     "output_type": "execute_result"
    }
   ],
   "source": [
    "#Test your code with the following examples\n",
    "input_array = (17,5,36,22,54,34,19,65,102)\n",
    "category_limits = (10,20,30,40,50,60,70,80)\n",
    "encode_array(input_array,category_limits) #should return [1, 0, 3, 2, 5, 3, 1, 6, 8]\n",
    "\n",
    "input_array = (17,5,36,22,54,34,19,65,102)\n",
    "category_limits = ()\n",
    "encode_array(input_array,category_limits) #should return [0, 0, 0, 0, 0, 0, 0, 0, 0]\n",
    "\n",
    "input_array = ()\n",
    "category_limits = (10,20,30,40,50,60,70,80)\n",
    "encode_array(input_array,category_limits) #should return []"
   ]
  },
  {
   "cell_type": "markdown",
   "metadata": {},
   "source": [
    "<h1>Problem 4: Word counts</h1>\n",
    "Write a function <span style=\"color:red\">word_count</span> that takes a text string as an argument and returns a dictionary containing the count of words in that string\n",
    "\n",
    "For example: \n",
    "\n",
    "For the  string \"It was the best of times it was the worst of times\", your function should return the following dictionary:\n",
    "\n",
    "{'It': 1,\n",
    " 'best': 1,\n",
    " 'it': 1,\n",
    " 'of': 2,\n",
    " 'the': 2,\n",
    " 'times': 2,\n",
    " 'was': 2,\n",
    " 'worst': 1}\n",
    " \n",
    " Notes:\n",
    " \n",
    " 1. Assume that there is no punctuation, not even the end of sentence period, in the string, only words separated by spaces. \n",
    " \n",
    " 2. The function <span style=\"color:red\">split</span> splits a string on spaces. An example call of the function is: <span style=\"color:red\">\"hello fellow\".split()</span> which will return the list <span style=\"color:red\">['hello', 'fellow']</span>\n",
    " \n",
    " 3. Treat words with different cases as different words (\"hello\" and \"Hello\" are not the same word)\n",
    " \n",
    " 4. You might find the <a href=\"http://book.pythontips.com/en/latest/for_-_else.html\">for ... else ...</a> structure useful for this problem \n",
    " \n",
    " 5. If the string is empty, the function should return an empty dictionary"
   ]
  },
  {
   "cell_type": "code",
   "execution_count": 4,
   "metadata": {},
   "outputs": [],
   "source": [
    "#PROBLEM 4 SOLUTION\n",
    "def word_count(text):\n",
    "    words=text.split()\n",
    "    words_dict={}\n",
    "    for i in range (len(words)):\n",
    "        words_dict[words[i]]=0\n",
    "        for k in range (len(words)):\n",
    "            if words[i]==words[k]:\n",
    "                words_dict[words[i]]+=1\n",
    "    return words_dict"
   ]
  },
  {
   "cell_type": "code",
   "execution_count": 12,
   "metadata": {},
   "outputs": [
    {
     "data": {
      "text/plain": [
       "{'It': 1,\n",
       " 'was': 2,\n",
       " 'the': 2,\n",
       " 'best': 1,\n",
       " 'of': 2,\n",
       " 'times': 2,\n",
       " 'it': 1,\n",
       " 'worst': 1}"
      ]
     },
     "execution_count": 12,
     "metadata": {},
     "output_type": "execute_result"
    }
   ],
   "source": [
    "#test your function with the following sample data\n",
    "\n",
    "#Should return {'It': 1, 'best': 1, 'it': 1, 'of': 2, 'the': 2, 'times': 2, 'was': 2, 'worst': 1}\n",
    "text1 = \"It was the best of times it was the worst of times\"\n",
    "word_count(text1)\n",
    "\n",
    "#Should return {}\n",
    "text1 = \"\"\n",
    "word_count(text1)\n"
   ]
  },
  {
   "cell_type": "markdown",
   "metadata": {},
   "source": [
    "<h1>Problem 5: word encodings and vocabulary</h1>\n",
    "Many text mining problems use word encodings as an input to the analytic process. The idea behind word encodings is very simple: a corpus of documents (corpus = \"many documents\" in simple English!) contains a vocabulary (the set of words used across all documents). The vocabulary is textual (\"green\", \"people\", \"carrots\") but data analysis works better with numeric data. The solution is to replace each word with a numeric code. For example, if the corpus contains two documents:\n",
    "\n",
    "doc1 = \"it was the best of times it was the worst of times\"<br>\n",
    "doc2 = \"The good times of today are the sad thoughts of tomorrow\"\n",
    "\n",
    "Then we can represent word encodings by the following dictionary:\n",
    "\n",
    "{'are': 9,\n",
    " 'best': 3,\n",
    " 'good': 7,\n",
    " 'it': 0,\n",
    " 'of': 4,\n",
    " 'sad': 10,\n",
    " 'the': 2,\n",
    " 'thoughts': 11,\n",
    " 'times': 5,\n",
    " 'today': 8,\n",
    " 'tomorrow': 12,\n",
    " 'was': 1,\n",
    " 'worst': 6}\n",
    " \n",
    " If you look at the dictionary carefully, the encoding process should be very clear. \"it\" was the first word in the first document and it was encoded as a 0. \"was\" was the second word and it was encoded as a 1. And so on. \n",
    " \n",
    " Write a function <span style=\"color:blue\">vocabulary</span> that takes a list of documents as an argument and returns a dictionary containing the encoded vocabulary\n",
    " \n",
    " Notes:\n",
    " \n",
    " 1. Assume that each document is a single text string containing words separated by spaces and with absolutely no punctuation\n",
    "\n",
    "2. If the corpus is empty, the function should return an empty dictionary\n",
    " "
   ]
  },
  {
   "cell_type": "code",
   "execution_count": 6,
   "metadata": {},
   "outputs": [],
   "source": [
    "#PROBLEM 5 SOLUTION\n",
    "def vocabulary(corpus):\n",
    "    vocab={}\n",
    "    jointlist=doc1.lower().split()+doc2.lower().split()\n",
    "    keywords=[]\n",
    "    for item in jointlist:\n",
    "        if item not in keywords:\n",
    "            keywords.append(item)\n",
    "    for i in range(len(keywords)):\n",
    "        vocab[keywords[i]]=i\n",
    "    return vocab"
   ]
  },
  {
   "cell_type": "code",
   "execution_count": 7,
   "metadata": {
    "scrolled": true
   },
   "outputs": [
    {
     "data": {
      "text/plain": [
       "{'it': 0,\n",
       " 'was': 1,\n",
       " 'the': 2,\n",
       " 'best': 3,\n",
       " 'of': 4,\n",
       " 'times': 5,\n",
       " 'worst': 6,\n",
       " 'good': 7,\n",
       " 'today': 8,\n",
       " 'are': 9,\n",
       " 'sad': 10,\n",
       " 'thoughts': 11,\n",
       " 'tomorrow': 12}"
      ]
     },
     "execution_count": 7,
     "metadata": {},
     "output_type": "execute_result"
    }
   ],
   "source": [
    "#Test your function with the following example. \n",
    "#Should return: \n",
    "#{'are': 9, 'best': 3, 'good': 7, 'it': 0, 'of': 4, 'sad': 10, 'the': 2, 'thoughts': 11, 'times': 5, 'today': 8, 'tomorrow': 12, 'was': 1, 'worst': 6}\n",
    "doc1 = \"it was the best of times it was the worst of times\"\n",
    "doc2 = \"the good times of today are the sad thoughts of tomorrow\"\n",
    "\n",
    "vocabulary([doc1,doc2])\n"
   ]
  },
  {
   "cell_type": "markdown",
   "metadata": {},
   "source": [
    "<h1>Problem 6: word_vectors</h1>\n",
    "The  <span style=\"color:red\">vocabulary</span> function returns a dictionary containing the word encoded vocabulary associated with the corpus. Once the encoding is done, each document can be replaced by a <span style=\"color:blue\">word vector</span> that indicates which words (from the vocabulary) are present in the document and with what frequency. For example, given the corpus:\n",
    "\n",
    "doc1 = \"it was the best of times it was the worst of times\"\n",
    "doc2 = \"The good times of today are the sad thoughts of tomorrow\"\n",
    "\n",
    "the word vector corresponding to doc1 is:\n",
    "\n",
    "[2, 2, 2, 1, 2, 2, 1, 0, 0, 0, 0, 0, 0]\n",
    "\n",
    "Note that the length of the vector is equal to the length of the entire vocabulary. Each location in the word vector corresponds to the code for the corresponding word in the vocabulary. The value at each location is the frequency of the eord in the document. Thus, location 0 corresponds to the word \"it\" which occurs twice in the doc1. Location 3 corresponds to \"best\" which occurs once in doc1. \n",
    "\n",
    "Write a function <span style=\"color:red\">word_vectors</span> that takes a list of texts as an argument and returns a list of word vectors. \n",
    "\n",
    "Notes:\n",
    "\n",
    "1. Use the word_count function to get word frequencies\n",
    "\n",
    "2. Use the vocabulary function to get the encoded vocabulary for the corpus\n",
    "\n",
    "3. You can construct a list of zeros of a given length using <span style=\"color:blue\">[0]*n</span> where n is an integer. <span style=\"color:blue\">[0] * len(vocabulary)</span> will return a list of zeros of the length of the vocabulary. Create this list for each document and update individual locations by their corresponding frequencies in the document"
   ]
  },
  {
   "cell_type": "code",
   "execution_count": null,
   "metadata": {},
   "outputs": [],
   "source": [
    "[0]*6"
   ]
  },
  {
   "cell_type": "code",
   "execution_count": 10,
   "metadata": {},
   "outputs": [],
   "source": [
    "#PROBLEM 6 SOLUTION\n",
    "def word_vectors(corpus):\n",
    "    vocab = vocabulary(corpus)\n",
    "    keys=list(vocab)\n",
    "    frequency1=[0] * len(vocab) \n",
    "    frequency2=[0] * len(vocab)\n",
    "    list1=doc1.lower().split()\n",
    "    list2=doc2.lower().split()   \n",
    "    for item in list1:\n",
    "        for i in range(len(keys)):\n",
    "            if keys[i]==item:\n",
    "                frequency1[i]+=1\n",
    "    for item in list2:\n",
    "        for i in range(len(keys)):\n",
    "            if keys[i]==item:\n",
    "                frequency2[i]+=1\n",
    "    frequency=(frequency1,frequency2)\n",
    "    return frequency          "
   ]
  },
  {
   "cell_type": "code",
   "execution_count": 11,
   "metadata": {},
   "outputs": [
    {
     "data": {
      "text/plain": [
       "([2, 2, 2, 1, 2, 2, 1, 0, 0, 0, 0, 0, 0],\n",
       " [0, 0, 2, 0, 2, 1, 0, 1, 1, 1, 1, 1, 1])"
      ]
     },
     "execution_count": 11,
     "metadata": {},
     "output_type": "execute_result"
    }
   ],
   "source": [
    "#Test your code with the following example\n",
    "\"\"\"\n",
    "The function should return a list of two lists:\n",
    "[[2, 2, 2, 1, 2, 2, 1, 0, 0, 0, 0, 0, 0],\n",
    " [0, 0, 2, 0, 2, 1, 0, 1, 1, 1, 1, 1, 1]]\n",
    "\"\"\"\n",
    "doc1 = \"it was the best of times it was the worst of times\"\n",
    "doc2 = \"the good times of today are the sad thoughts of tomorrow\"\n",
    "word_vectors([doc1,doc2])\n"
   ]
  },
  {
   "cell_type": "code",
   "execution_count": null,
   "metadata": {},
   "outputs": [],
   "source": []
  }
 ],
 "metadata": {
  "kernelspec": {
   "display_name": "Python 3",
   "language": "python",
   "name": "python3"
  },
  "language_info": {
   "codemirror_mode": {
    "name": "ipython",
    "version": 3
   },
   "file_extension": ".py",
   "mimetype": "text/x-python",
   "name": "python",
   "nbconvert_exporter": "python",
   "pygments_lexer": "ipython3",
   "version": "3.7.3"
  }
 },
 "nbformat": 4,
 "nbformat_minor": 2
}
